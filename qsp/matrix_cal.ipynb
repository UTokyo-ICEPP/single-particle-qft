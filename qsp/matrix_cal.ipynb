{
 "cells": [
  {
   "cell_type": "code",
   "execution_count": 2,
   "metadata": {},
   "outputs": [],
   "source": [
    "## Importing Qiskit libraries\n",
    "from qiskit import QuantumRegister, ClassicalRegister, QuantumCircuit, transpile, AncillaRegister, Aer, execute, assemble\n",
    "from qiskit_aer import AerSimulator\n",
    "from qiskit.circuit import Gate\n",
    "from qiskit.visualization import plot_histogram, circuit_drawer\n",
    "import matplotlib.pyplot as plt\n",
    "from qiskit.quantum_info import Operator\n",
    "from qiskit.circuit.library import MCMT, RYGate, RXGate, PhaseGate\n",
    "import numpy as np\n",
    "np.set_printoptions(threshold=np.inf)\n",
    "import math\n",
    "from typing import Union"
   ]
  },
  {
   "cell_type": "code",
   "execution_count": 11,
   "metadata": {},
   "outputs": [],
   "source": [
    "## Settings\n",
    "d = 1 # of dimensions\n",
    "M = 1 # of registers (rough estimate for M is the number of particles in the final state, but M should be set so that p_success can be maximized)\n",
    "n = 1 # of particles in the initial state\n",
    "N_abs = 3 # of modes for momenta\n",
    "m = 1 # mass of particles of projectile\n",
    "\n",
    "\n",
    "nqubits = N_abs * d + d + 1\n",
    "N_s = 2 ** (N_abs + 1) # size of the lattice per one dimension\n",
    "V = N_s ** d # volume\n",
    "N = N_abs * d + d + 1 # of qubits per one particle (magnitude of momentum + sign + occupation)\n",
    "s = math.ceil(math.log2(math.factorial(M)/math.factorial(M - n))) # of ancilla qubits for Bose symm."
   ]
  },
  {
   "cell_type": "code",
   "execution_count": 27,
   "metadata": {},
   "outputs": [],
   "source": [
    "I = np.array([[1, 0], [0, 1]])\n",
    "H = np.array([[1/np.sqrt(2), 1/np.sqrt(2)], [1/np.sqrt(2), -1/np.sqrt(2)]])\n",
    "X = np.array([[0, 1], [1, 0]])\n",
    "Y = np.array([[0, -1j], [1j, 0]])\n",
    "Z = np.array([[1, 0], [0, 1]])"
   ]
  },
  {
   "cell_type": "code",
   "execution_count": 12,
   "metadata": {},
   "outputs": [],
   "source": [
    "#初期状態|0000・・・0>を準備する。\n",
    "def StateZeros(nqubits):\n",
    "    State = np.zeros(2**nqubits)\n",
    "    State[0]=1\n",
    "    return State"
   ]
  },
  {
   "cell_type": "code",
   "execution_count": 85,
   "metadata": {},
   "outputs": [],
   "source": [
    "def makeGate(N, nqubit, Gate): # action of Gate to nth qubit (0...N)\n",
    "    if nqubit == 0:\n",
    "        tmp = Gate\n",
    "    else: tmp = I\n",
    "    for i in range(N):\n",
    "        B_tmp = np.array(2 ** (i+2))\n",
    "        if nqubit == i + 1:\n",
    "            B_tmp = np.kron(Gate, tmp)\n",
    "        else: B_tmp = np.kron(I, tmp)\n",
    "        tmp = B_tmp\n",
    "    return tmp"
   ]
  },
  {
   "cell_type": "code",
   "execution_count": 88,
   "metadata": {},
   "outputs": [
    {
     "data": {
      "text/plain": [
       "array([[ 0.70710678,  0.        ,  0.        ,  0.        ,  0.70710678,\n",
       "         0.        ,  0.        ,  0.        ,  0.        ,  0.        ,\n",
       "         0.        ,  0.        ,  0.        ,  0.        ,  0.        ,\n",
       "         0.        ],\n",
       "       [ 0.        ,  0.70710678,  0.        ,  0.        ,  0.        ,\n",
       "         0.70710678,  0.        ,  0.        ,  0.        ,  0.        ,\n",
       "         0.        ,  0.        ,  0.        ,  0.        ,  0.        ,\n",
       "         0.        ],\n",
       "       [ 0.        ,  0.        ,  0.70710678,  0.        ,  0.        ,\n",
       "         0.        ,  0.70710678,  0.        ,  0.        ,  0.        ,\n",
       "         0.        ,  0.        ,  0.        ,  0.        ,  0.        ,\n",
       "         0.        ],\n",
       "       [ 0.        ,  0.        ,  0.        ,  0.70710678,  0.        ,\n",
       "         0.        ,  0.        ,  0.70710678,  0.        ,  0.        ,\n",
       "         0.        ,  0.        ,  0.        ,  0.        ,  0.        ,\n",
       "         0.        ],\n",
       "       [ 0.70710678,  0.        ,  0.        ,  0.        , -0.70710678,\n",
       "        -0.        , -0.        , -0.        ,  0.        ,  0.        ,\n",
       "         0.        ,  0.        , -0.        , -0.        , -0.        ,\n",
       "        -0.        ],\n",
       "       [ 0.        ,  0.70710678,  0.        ,  0.        , -0.        ,\n",
       "        -0.70710678, -0.        , -0.        ,  0.        ,  0.        ,\n",
       "         0.        ,  0.        , -0.        , -0.        , -0.        ,\n",
       "        -0.        ],\n",
       "       [ 0.        ,  0.        ,  0.70710678,  0.        , -0.        ,\n",
       "        -0.        , -0.70710678, -0.        ,  0.        ,  0.        ,\n",
       "         0.        ,  0.        , -0.        , -0.        , -0.        ,\n",
       "        -0.        ],\n",
       "       [ 0.        ,  0.        ,  0.        ,  0.70710678, -0.        ,\n",
       "        -0.        , -0.        , -0.70710678,  0.        ,  0.        ,\n",
       "         0.        ,  0.        , -0.        , -0.        , -0.        ,\n",
       "        -0.        ],\n",
       "       [ 0.        ,  0.        ,  0.        ,  0.        ,  0.        ,\n",
       "         0.        ,  0.        ,  0.        ,  0.70710678,  0.        ,\n",
       "         0.        ,  0.        ,  0.70710678,  0.        ,  0.        ,\n",
       "         0.        ],\n",
       "       [ 0.        ,  0.        ,  0.        ,  0.        ,  0.        ,\n",
       "         0.        ,  0.        ,  0.        ,  0.        ,  0.70710678,\n",
       "         0.        ,  0.        ,  0.        ,  0.70710678,  0.        ,\n",
       "         0.        ],\n",
       "       [ 0.        ,  0.        ,  0.        ,  0.        ,  0.        ,\n",
       "         0.        ,  0.        ,  0.        ,  0.        ,  0.        ,\n",
       "         0.70710678,  0.        ,  0.        ,  0.        ,  0.70710678,\n",
       "         0.        ],\n",
       "       [ 0.        ,  0.        ,  0.        ,  0.        ,  0.        ,\n",
       "         0.        ,  0.        ,  0.        ,  0.        ,  0.        ,\n",
       "         0.        ,  0.70710678,  0.        ,  0.        ,  0.        ,\n",
       "         0.70710678],\n",
       "       [ 0.        ,  0.        ,  0.        ,  0.        , -0.        ,\n",
       "        -0.        , -0.        , -0.        ,  0.70710678,  0.        ,\n",
       "         0.        ,  0.        , -0.70710678, -0.        , -0.        ,\n",
       "        -0.        ],\n",
       "       [ 0.        ,  0.        ,  0.        ,  0.        , -0.        ,\n",
       "        -0.        , -0.        , -0.        ,  0.        ,  0.70710678,\n",
       "         0.        ,  0.        , -0.        , -0.70710678, -0.        ,\n",
       "        -0.        ],\n",
       "       [ 0.        ,  0.        ,  0.        ,  0.        , -0.        ,\n",
       "        -0.        , -0.        , -0.        ,  0.        ,  0.        ,\n",
       "         0.70710678,  0.        , -0.        , -0.        , -0.70710678,\n",
       "        -0.        ],\n",
       "       [ 0.        ,  0.        ,  0.        ,  0.        , -0.        ,\n",
       "        -0.        , -0.        , -0.        ,  0.        ,  0.        ,\n",
       "         0.        ,  0.70710678, -0.        , -0.        , -0.        ,\n",
       "        -0.70710678]])"
      ]
     },
     "execution_count": 88,
     "metadata": {},
     "output_type": "execute_result"
    }
   ],
   "source": [
    "makeGate(N, (N_abs + 1) * d, X)\n",
    "makeGate(N, N_abs * d, H)"
   ]
  }
 ],
 "metadata": {
  "kernelspec": {
   "display_name": ".venv",
   "language": "python",
   "name": "python3"
  },
  "language_info": {
   "codemirror_mode": {
    "name": "ipython",
    "version": 3
   },
   "file_extension": ".py",
   "mimetype": "text/x-python",
   "name": "python",
   "nbconvert_exporter": "python",
   "pygments_lexer": "ipython3",
   "version": "3.9.6"
  },
  "orig_nbformat": 4
 },
 "nbformat": 4,
 "nbformat_minor": 2
}
