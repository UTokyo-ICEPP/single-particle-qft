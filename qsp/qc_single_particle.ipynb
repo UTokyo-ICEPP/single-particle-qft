{
 "cells": [
  {
   "cell_type": "code",
   "execution_count": 27,
   "metadata": {},
   "outputs": [],
   "source": [
    "## Importing Qiskit libraries\n",
    "from qiskit import QuantumRegister, ClassicalRegister, QuantumCircuit, transpile\n",
    "import numpy as np"
   ]
  },
  {
   "cell_type": "code",
   "execution_count": 28,
   "metadata": {},
   "outputs": [],
   "source": [
    "## Settings\n",
    "d = 1 # dimension\n",
    "M = 2 # number of particles\n",
    "L = 2 # number of qubits for momentum\n",
    "N = L * d + d + 1 # nummber of qubits per one particle"
   ]
  },
  {
   "cell_type": "code",
   "execution_count": 29,
   "metadata": {},
   "outputs": [],
   "source": [
    "def init(M): # initialize circuit\n",
    "    particle_registers = []\n",
    "    for i in range(M):\n",
    "        particle_registers.append(QuantumRegister((L + 1) * d + 1, name = f'particle{i}'))\n",
    "    particle_registers.append(QuantumRegister(L, name = f'aux')) # aux register for free Hamiltonian\n",
    "    circuit = QuantumCircuit(*particle_registers)\n",
    "    return circuit, particle_registers"
   ]
  },
  {
   "cell_type": "code",
   "execution_count": 23,
   "metadata": {},
   "outputs": [],
   "source": [
    "#### examples of operation ####\n",
    "## operate x gate to one certain qubit\n",
    "# circuit.x(((L + 1) * d + 1) * M)\n",
    "# circuit.h(particle_registers[1][0])\n",
    "\n",
    "## operate x gate to one certain particle register\n",
    "# circuit.x(particle_registers[0])\n",
    "\n",
    "## operate x gate to all qubits\n",
    "# for i in range(M):\n",
    "#     circuit.x(particle_registers[i])\n",
    "\n",
    "# circuit.draw('mpl') # 1つのparticleに対して下位 L* d ビットが運動量の大きさ、次のdビットが符号、最後1ビットがoccupancy"
   ]
  },
  {
   "cell_type": "code",
   "execution_count": 44,
   "metadata": {},
   "outputs": [
    {
     "name": "stdout",
     "output_type": "stream",
     "text": [
      "Defined function setup_addition\n"
     ]
    }
   ],
   "source": [
    "def setup_addition(circuit, reg1, reg2, reg3):\n",
    "    # reg3にequal superpositionを生成\n",
    "    # QuantumCircuitの1量子ビットゲートに対応するメソッド（circuit.hなど）に単一の量子ビットの代わりに\n",
    "    # レジスタや量子ビットのリストを渡すと、含まれる全ての量子ビットに同じゲートをかけてくれる\n",
    "    circuit.h(reg3)\n",
    "\n",
    "    # 位相の単位（dphiの整数倍の位相をCPゲートでかけていく）\n",
    "    dphi = 2. * np.pi / (2 ** reg3.size)\n",
    "\n",
    "    # reg1とreg2それぞれの量子ビットで制御する\n",
    "    for reg_ctrl in [reg1, reg2]:\n",
    "        # 制御ビットに関するループ\n",
    "        for ictrl, qctrl in enumerate(reg_ctrl):\n",
    "            # reg3の標的ビットに関するループ\n",
    "            for itarg, qtarg in enumerate(reg3):\n",
    "                # C[P(phi)], phi = 2pi * 2^{ictrl} * 2^{itarg} / 2^{n3}\n",
    "                circuit.cp(dphi * (2 ** (ictrl + itarg)), qctrl, qtarg)\n",
    "\n",
    "    # 回路図を見やすくするためのバリア\n",
    "    # circuit.barrier()\n",
    "\n",
    "    # Inverse QFT\n",
    "    for j in range(reg3.size // 2):\n",
    "        circuit.swap(reg3[j], reg3[-1 - j])\n",
    "\n",
    "    for itarg in range(reg3.size):\n",
    "        for ictrl in range(itarg):\n",
    "            power = ictrl - itarg - 1 + reg3.size\n",
    "            circuit.cp(-dphi * (2 ** power), reg3[ictrl], reg3[itarg])\n",
    "        \n",
    "        circuit.h(reg3[itarg])\n",
    "    return circuit\n",
    "        \n",
    "print('Defined function setup_addition')"
   ]
  },
  {
   "cell_type": "code",
   "execution_count": 82,
   "metadata": {},
   "outputs": [],
   "source": [
    "def addition(circuit, reg_in, reg_out): # reg_in is the list of registers\n",
    "    circuit.h(reg_out)\n",
    "    dphi = 2. * np.pi / (2 ** reg_out.size)\n",
    "    for reg_ctrl in reg_in:\n",
    "        for ictrl, qctrl in enumerate(reg_ctrl):\n",
    "            for itarg, qtarg in enumerate(reg_out):\n",
    "                # C[P(phi)], phi = 2pi * 2^{ictrl} * 2^{itarg} / 2^{n3}\n",
    "                circuit.cp(dphi * (2 ** (ictrl + itarg)), qctrl, qtarg)\n",
    "    return circuit"
   ]
  },
  {
   "cell_type": "code",
   "execution_count": 119,
   "metadata": {},
   "outputs": [],
   "source": [
    "enumerate([particle_registers[0][0], particle_registers[0][1], particle_registers[1][0], particle_registers[1][1], particle_registers[2][0], particle_registers[2][1]])\n",
    "reg_in = [particle_registers[0][0], particle_registers[0][1], particle_registers[1][0], particle_registers[1][1], particle_registers[2][0], particle_registers[2][1]]\n",
    "for reg_ctl in reg_in:\n",
    "    x = 0"
   ]
  },
  {
   "cell_type": "code",
   "execution_count": 116,
   "metadata": {},
   "outputs": [
    {
     "ename": "TypeError",
     "evalue": "'Qubit' object is not iterable",
     "output_type": "error",
     "traceback": [
      "\u001b[0;31m---------------------------------------------------------------------------\u001b[0m",
      "\u001b[0;31mTypeError\u001b[0m                                 Traceback (most recent call last)",
      "Cell \u001b[0;32mIn[116], line 7\u001b[0m\n\u001b[1;32m      5\u001b[0m add_gate \u001b[39m=\u001b[39m add_circuit\u001b[39m.\u001b[39mto_gate()\n\u001b[1;32m      6\u001b[0m cadd_gate \u001b[39m=\u001b[39m add_gate\u001b[39m.\u001b[39mcontrol(\u001b[39m1\u001b[39m)\n\u001b[0;32m----> 7\u001b[0m circuit\u001b[39m.\u001b[39;49mappend(cadd_gate, qargs\u001b[39m=\u001b[39;49m([particle_registers[\u001b[39m0\u001b[39;49m][\u001b[39m0\u001b[39;49m], particle_registers[\u001b[39m0\u001b[39;49m][\u001b[39m1\u001b[39;49m], particle_registers[\u001b[39m1\u001b[39;49m][\u001b[39m0\u001b[39;49m], particle_registers[\u001b[39m1\u001b[39;49m][\u001b[39m1\u001b[39;49m], particle_registers[\u001b[39m2\u001b[39;49m][\u001b[39m0\u001b[39;49m], particle_registers[\u001b[39m2\u001b[39;49m][\u001b[39m1\u001b[39;49m]]), cargs\u001b[39m=\u001b[39;49m(particle_registers[\u001b[39m0\u001b[39;49m][\u001b[39m3\u001b[39;49m]))\n\u001b[1;32m      8\u001b[0m add_circuit\u001b[39m.\u001b[39mdraw(\u001b[39m'\u001b[39m\u001b[39mmpl\u001b[39m\u001b[39m'\u001b[39m)\n",
      "File \u001b[0;32m~/single-particle-qft/.venv/lib/python3.9/site-packages/qiskit/circuit/quantumcircuit.py:1288\u001b[0m, in \u001b[0;36mQuantumCircuit.append\u001b[0;34m(self, instruction, qargs, cargs)\u001b[0m\n\u001b[1;32m   1285\u001b[0m         operation \u001b[39m=\u001b[39m copy\u001b[39m.\u001b[39mdeepcopy(operation)\n\u001b[1;32m   1287\u001b[0m expanded_qargs \u001b[39m=\u001b[39m [\u001b[39mself\u001b[39m\u001b[39m.\u001b[39mqbit_argument_conversion(qarg) \u001b[39mfor\u001b[39;00m qarg \u001b[39min\u001b[39;00m qargs \u001b[39mor\u001b[39;00m []]\n\u001b[0;32m-> 1288\u001b[0m expanded_cargs \u001b[39m=\u001b[39m [\u001b[39mself\u001b[39m\u001b[39m.\u001b[39mcbit_argument_conversion(carg) \u001b[39mfor\u001b[39;00m carg \u001b[39min\u001b[39;00m cargs \u001b[39mor\u001b[39;00m []]\n\u001b[1;32m   1290\u001b[0m \u001b[39mif\u001b[39;00m \u001b[39mself\u001b[39m\u001b[39m.\u001b[39m_control_flow_scopes:\n\u001b[1;32m   1291\u001b[0m     appender \u001b[39m=\u001b[39m \u001b[39mself\u001b[39m\u001b[39m.\u001b[39m_control_flow_scopes[\u001b[39m-\u001b[39m\u001b[39m1\u001b[39m]\u001b[39m.\u001b[39mappend\n",
      "\u001b[0;31mTypeError\u001b[0m: 'Qubit' object is not iterable"
     ]
    }
   ],
   "source": [
    "circuit, particle_registers = init(M) # initialization\n",
    "reg_in = [particle_registers[0][:L], particle_registers[1][:L]]\n",
    "reg_out = particle_registers[2]\n",
    "add_circuit = addition(circuit, reg_in, reg_out)\n",
    "add_gate = add_circuit.to_gate()\n",
    "cadd_gate = add_gate.control(1)\n",
    "circuit.append(cadd_gate, qargs=([particle_registers[0][0], particle_registers[0][1], particle_registers[1][0], particle_registers[1][1], particle_registers[2][0], particle_registers[2][1]]), cargs=(particle_registers[0][3]))\n",
    "add_circuit.draw('mpl')"
   ]
  },
  {
   "cell_type": "code",
   "execution_count": 60,
   "metadata": {},
   "outputs": [],
   "source": [
    "# def make_addition_gate(M, L): # make addtition gate\n",
    "#     add_circuit, add_particle_reg = init(M)\n",
    "#     reg_in = []\n",
    "#     for i in range(M):\n",
    "#         reg_in.append(add_particle_reg[i][:L])\n",
    "#     add_circuit = addition(add_circuit, reg_in, reg_out=add_particle_reg[M])\n",
    "#     add_gate = add_circuit.to_gate()\n",
    "#     # cadd_gate = add_gate.control(1)\n",
    "#     return add_circuit"
   ]
  },
  {
   "cell_type": "code",
   "execution_count": null,
   "metadata": {},
   "outputs": [],
   "source": [
    "# circuit, particle_registers = init(M)\n",
    "# cadd_gate = make_addition_gate(M, L)\n",
    "# circuit.append(cadd_gate, qargs=([particle_registers[0][:L] + particle_registers[1][:L] + particle_registers[2]]))\n",
    "# # circuit.draw('mpl')"
   ]
  }
 ],
 "metadata": {
  "kernelspec": {
   "display_name": "venv",
   "language": "python",
   "name": "python3"
  },
  "language_info": {
   "codemirror_mode": {
    "name": "ipython",
    "version": 3
   },
   "file_extension": ".py",
   "mimetype": "text/x-python",
   "name": "python",
   "nbconvert_exporter": "python",
   "pygments_lexer": "ipython3",
   "version": "3.9.6"
  },
  "orig_nbformat": 4
 },
 "nbformat": 4,
 "nbformat_minor": 2
}
