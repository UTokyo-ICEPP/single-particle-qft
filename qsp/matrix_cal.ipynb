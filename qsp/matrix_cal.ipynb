{
 "cells": [
  {
   "cell_type": "code",
   "execution_count": 1,
   "metadata": {},
   "outputs": [],
   "source": [
    "## Importing Qiskit libraries\n",
    "from qiskit import QuantumRegister, ClassicalRegister, QuantumCircuit, transpile, AncillaRegister, Aer, execute, assemble\n",
    "from qiskit_aer import AerSimulator\n",
    "from qiskit.circuit import Gate\n",
    "from qiskit.visualization import plot_histogram, circuit_drawer\n",
    "import matplotlib.pyplot as plt\n",
    "from qiskit.quantum_info import Operator\n",
    "from qiskit.circuit.library import MCMT, RYGate, RXGate, PhaseGate\n",
    "import numpy as np\n",
    "np.set_printoptions(threshold=np.inf)\n",
    "import math\n",
    "from typing import Union"
   ]
  },
  {
   "cell_type": "code",
   "execution_count": 45,
   "metadata": {},
   "outputs": [],
   "source": [
    "## Settings\n",
    "d = 1 # of dimensions\n",
    "M = 1 # of registers (rough estimate for M is the number of particles in the final state, but M should be set so that p_success can be maximized)\n",
    "n = 1 # of particles in the initial state\n",
    "N_abs = 1 # of modes for momenta\n",
    "m = 1 # mass of particles of projectile\n",
    "\n",
    "\n",
    "nqubits = N_abs * d + d + 1\n",
    "N_s = 2 ** (N_abs + 1) # size of the lattice per one dimension\n",
    "V = N_s ** d # volume\n",
    "N = N_abs * d + d + 1 # of qubits per one particle (magnitude of momentum + sign + occupation)\n",
    "s = math.ceil(math.log2(math.factorial(M)/math.factorial(M - n))) # of ancilla qubits for Bose symm."
   ]
  },
  {
   "cell_type": "code",
   "execution_count": 3,
   "metadata": {},
   "outputs": [],
   "source": [
    "I = np.array([[1, 0], [0, 1]])\n",
    "H = np.array([[1/np.sqrt(2), 1/np.sqrt(2)], [1/np.sqrt(2), -1/np.sqrt(2)]])\n",
    "X = np.array([[0, 1], [1, 0]])\n",
    "Y = np.array([[0, -1j], [1j, 0]])\n",
    "Z = np.array([[1, 0], [0, 1]])"
   ]
  },
  {
   "cell_type": "code",
   "execution_count": 4,
   "metadata": {},
   "outputs": [],
   "source": [
    "#初期状態|0000・・・0>を準備する。\n",
    "def StateZeros(nqubits):\n",
    "    State = np.zeros(2**nqubits)\n",
    "    State[0]=1\n",
    "    return State"
   ]
  },
  {
   "cell_type": "code",
   "execution_count": 29,
   "metadata": {},
   "outputs": [],
   "source": [
    "def makeGate(N, nqubit, Gate): # action of Gate to n'th qubit (n = 0...N)\n",
    "    if nqubit == 0:\n",
    "        tmp = Gate\n",
    "    else: tmp = I\n",
    "    for i in range(N):\n",
    "        B_tmp = np.array((2 ** (i + 2), 2 ** (i + 2)))\n",
    "        if nqubit == i + 1:\n",
    "            B_tmp = np.kron(Gate, tmp)\n",
    "        else: B_tmp = np.kron(I, tmp)\n",
    "        tmp = B_tmp\n",
    "    return tmp"
   ]
  },
  {
   "cell_type": "code",
   "execution_count": null,
   "metadata": {},
   "outputs": [],
   "source": [
    "# makeGate(N, (N_abs + 1) * d, X)\n",
    "# makeGate(1, 1, H)"
   ]
  },
  {
   "cell_type": "code",
   "execution_count": 180,
   "metadata": {},
   "outputs": [],
   "source": [
    "# if dagger is True, make an annihilation operator, if False, an creation operator\n",
    "# ireg means the number of the register acted\n",
    "# qmom means that the momentum with sign\n",
    "def annahilationCreationOpPerReg(qmom, ireg, dagger, N, M):\n",
    "    if qmom > 0:\n",
    "        qrow = int(qmom - 1/2 + 2 ** (N-1))\n",
    "    elif qmom < 0:\n",
    "        qrow = int(np.abs(qmom + 1/2) + 2 ** (N-1) + 2 ** N_abs)\n",
    "    tmp_op = np.zeros((2 ** N, 2 ** N))\n",
    "    if dagger == False:\n",
    "        tmp_op[0][qrow] = 1\n",
    "    else:\n",
    "        tmp_op[qrow][0] = 1\n",
    "    identity = np.eye(2 ** N)\n",
    "    if ireg == 0:\n",
    "        tmp = tmp_op\n",
    "    else: tmp = identity\n",
    "    # print(tmp)\n",
    "    for i in range(M-1):\n",
    "        # print(i)\n",
    "        B_tmp = np.array((2 ** (i + 2), 2 ** (i + 2)))\n",
    "        if ireg == i + 1:\n",
    "            B_tmp = np.kron(tmp_op, tmp)\n",
    "        else: B_tmp = np.kron(identity, tmp)\n",
    "        tmp = B_tmp\n",
    "    return tmp"
   ]
  },
  {
   "cell_type": "code",
   "execution_count": 194,
   "metadata": {},
   "outputs": [],
   "source": [
    "def annahilationCreationOp(qmom, dagger):\n",
    "    tmp_op = np.zeros((2 ** (N * M), 2 ** (N * M)))\n",
    "    # print(tmp_op.size)\n",
    "    for ireg in range(M):\n",
    "        # print(annahilationCreationOpPerReg(qmom, ireg, dagger, N, M).size)\n",
    "        tmp_op += annahilationCreationOpPerReg(qmom, ireg, dagger, N, M)\n",
    "    return tmp_op * (1/np.sqrt(M))"
   ]
  },
  {
   "cell_type": "code",
   "execution_count": 174,
   "metadata": {},
   "outputs": [
    {
     "data": {
      "text/plain": [
       "array([[0., 0., 0., 0., 0., 0., 0., 1.],\n",
       "       [0., 0., 0., 0., 0., 0., 0., 0.],\n",
       "       [0., 0., 0., 0., 0., 0., 0., 0.],\n",
       "       [0., 0., 0., 0., 0., 0., 0., 0.],\n",
       "       [0., 0., 0., 0., 0., 0., 0., 0.],\n",
       "       [0., 0., 0., 0., 0., 0., 0., 0.],\n",
       "       [0., 0., 0., 0., 0., 0., 0., 0.],\n",
       "       [0., 0., 0., 0., 0., 0., 0., 0.]])"
      ]
     },
     "execution_count": 174,
     "metadata": {},
     "output_type": "execute_result"
    }
   ],
   "source": [
    "annahilationCreationOpPerReg(-1, 0, False, 3, 1)\n",
    "# annahilationCreationOp(1, True)"
   ]
  },
  {
   "cell_type": "code",
   "execution_count": 161,
   "metadata": {},
   "outputs": [],
   "source": [
    "def squeezeOpPerMom(qmom):\n",
    "    zq = (1/2) * np.log(np.abs(qmom + 1/2))\n",
    "    A = annahilationCreationOp(qmom, True)\n",
    "    B = annahilationCreationOp(-qmom, True)\n",
    "    C = annahilationCreationOp(-qmom, False)\n",
    "    D = annahilationCreationOp(qmom, False)\n",
    "    ln_sq = -zq * (A @ B - C @ D)\n",
    "    sq = np.exp(ln_sq)\n",
    "    return sq"
   ]
  },
  {
   "cell_type": "code",
   "execution_count": 187,
   "metadata": {},
   "outputs": [],
   "source": [
    "def squeezeOp():\n",
    "    sq = np.eye(2 ** (N * M))\n",
    "    for q in range(N_abs + 1):\n",
    "        print(q)\n",
    "        # print(squeezeOpPerMom(q+1/2))\n",
    "        # print(squeezeOpPerMom(-(q+1/2)))\n",
    "        sq @= squeezeOpPerMom(q + 1/2)\n",
    "        sq @= squeezeOpPerMom(-(q + 1/2))\n",
    "    return sq"
   ]
  },
  {
   "cell_type": "code",
   "execution_count": 192,
   "metadata": {},
   "outputs": [],
   "source": [
    "def phi(n):\n",
    "    A = annahilationCreationOp(n, True)\n",
    "    B = annahilationCreationOp(n, False)\n",
    "    phiGate = (1/np.sqrt(2)) * (A + B)\n",
    "    return phiGate"
   ]
  },
  {
   "cell_type": "code",
   "execution_count": 195,
   "metadata": {},
   "outputs": [],
   "source": [
    "def intU(delta, lam):\n",
    "    ln_UI = 0\n",
    "    for ipos in range(N_abs * d + d):\n",
    "        ln_UI += -1j * delta * (lam/24) * phi(ipos) @ phi(ipos) @ phi(ipos) @ phi(ipos)\n",
    "    uI = np.exp(ln_UI)\n",
    "    return uI"
   ]
  },
  {
   "cell_type": "code",
   "execution_count": 197,
   "metadata": {},
   "outputs": [
    {
     "ename": "UnboundLocalError",
     "evalue": "local variable 'qrow' referenced before assignment",
     "output_type": "error",
     "traceback": [
      "\u001b[0;31m---------------------------------------------------------------------------\u001b[0m",
      "\u001b[0;31mUnboundLocalError\u001b[0m                         Traceback (most recent call last)",
      "Cell \u001b[0;32mIn[197], line 1\u001b[0m\n\u001b[0;32m----> 1\u001b[0m intU(\u001b[39m0.1\u001b[39;49m, \u001b[39m0.1\u001b[39;49m)\n",
      "Cell \u001b[0;32mIn[195], line 4\u001b[0m, in \u001b[0;36mintU\u001b[0;34m(delta, lam)\u001b[0m\n\u001b[1;32m      2\u001b[0m ln_UI \u001b[39m=\u001b[39m \u001b[39m0\u001b[39m\n\u001b[1;32m      3\u001b[0m \u001b[39mfor\u001b[39;00m ipos \u001b[39min\u001b[39;00m \u001b[39mrange\u001b[39m(N_abs \u001b[39m*\u001b[39m d \u001b[39m+\u001b[39m d):\n\u001b[0;32m----> 4\u001b[0m     ln_UI \u001b[39m+\u001b[39m\u001b[39m=\u001b[39m \u001b[39m-\u001b[39m\u001b[39m1\u001b[39mj \u001b[39m*\u001b[39m delta \u001b[39m*\u001b[39m (lam\u001b[39m/\u001b[39m\u001b[39m24\u001b[39m) \u001b[39m*\u001b[39m phi(ipos) \u001b[39m@\u001b[39m phi(ipos) \u001b[39m@\u001b[39m phi(ipos) \u001b[39m@\u001b[39m phi(ipos)\n\u001b[1;32m      5\u001b[0m uI \u001b[39m=\u001b[39m np\u001b[39m.\u001b[39mexp(ln_UI)\n\u001b[1;32m      6\u001b[0m \u001b[39mreturn\u001b[39;00m uI\n",
      "Cell \u001b[0;32mIn[192], line 2\u001b[0m, in \u001b[0;36mphi\u001b[0;34m(n)\u001b[0m\n\u001b[1;32m      1\u001b[0m \u001b[39mdef\u001b[39;00m \u001b[39mphi\u001b[39m(n):\n\u001b[0;32m----> 2\u001b[0m     A \u001b[39m=\u001b[39m annahilationCreationOp(n, \u001b[39mTrue\u001b[39;49;00m)\n\u001b[1;32m      3\u001b[0m     B \u001b[39m=\u001b[39m annahilationCreationOp(n, \u001b[39mFalse\u001b[39;00m)\n\u001b[1;32m      4\u001b[0m     phiGate \u001b[39m=\u001b[39m (\u001b[39m1\u001b[39m\u001b[39m/\u001b[39mnp\u001b[39m.\u001b[39msqrt(\u001b[39m2\u001b[39m)) \u001b[39m*\u001b[39m (A \u001b[39m+\u001b[39m B)\n",
      "Cell \u001b[0;32mIn[194], line 6\u001b[0m, in \u001b[0;36mannahilationCreationOp\u001b[0;34m(qmom, dagger)\u001b[0m\n\u001b[1;32m      3\u001b[0m \u001b[39m# print(tmp_op.size)\u001b[39;00m\n\u001b[1;32m      4\u001b[0m \u001b[39mfor\u001b[39;00m ireg \u001b[39min\u001b[39;00m \u001b[39mrange\u001b[39m(M):\n\u001b[1;32m      5\u001b[0m     \u001b[39m# print(annahilationCreationOpPerReg(qmom, ireg, dagger, N, M).size)\u001b[39;00m\n\u001b[0;32m----> 6\u001b[0m     tmp_op \u001b[39m+\u001b[39m\u001b[39m=\u001b[39m annahilationCreationOpPerReg(qmom, ireg, dagger, N, M)\n\u001b[1;32m      7\u001b[0m \u001b[39mreturn\u001b[39;00m tmp_op \u001b[39m*\u001b[39m (\u001b[39m1\u001b[39m\u001b[39m/\u001b[39mnp\u001b[39m.\u001b[39msqrt(M))\n",
      "Cell \u001b[0;32mIn[180], line 13\u001b[0m, in \u001b[0;36mannahilationCreationOpPerReg\u001b[0;34m(qmom, ireg, dagger, N, M)\u001b[0m\n\u001b[1;32m     11\u001b[0m     tmp_op[\u001b[39m0\u001b[39m][qrow] \u001b[39m=\u001b[39m \u001b[39m1\u001b[39m\n\u001b[1;32m     12\u001b[0m \u001b[39melse\u001b[39;00m:\n\u001b[0;32m---> 13\u001b[0m     tmp_op[qrow][\u001b[39m0\u001b[39m] \u001b[39m=\u001b[39m \u001b[39m1\u001b[39m\n\u001b[1;32m     14\u001b[0m identity \u001b[39m=\u001b[39m np\u001b[39m.\u001b[39meye(\u001b[39m2\u001b[39m \u001b[39m*\u001b[39m\u001b[39m*\u001b[39m N)\n\u001b[1;32m     15\u001b[0m \u001b[39mif\u001b[39;00m ireg \u001b[39m==\u001b[39m \u001b[39m0\u001b[39m:\n",
      "\u001b[0;31mUnboundLocalError\u001b[0m: local variable 'qrow' referenced before assignment"
     ]
    }
   ],
   "source": [
    "intU(0.1, 0.1)"
   ]
  }
 ],
 "metadata": {
  "kernelspec": {
   "display_name": ".venv",
   "language": "python",
   "name": "python3"
  },
  "language_info": {
   "codemirror_mode": {
    "name": "ipython",
    "version": 3
   },
   "file_extension": ".py",
   "mimetype": "text/x-python",
   "name": "python",
   "nbconvert_exporter": "python",
   "pygments_lexer": "ipython3",
   "version": "3.9.6"
  },
  "orig_nbformat": 4
 },
 "nbformat": 4,
 "nbformat_minor": 2
}
